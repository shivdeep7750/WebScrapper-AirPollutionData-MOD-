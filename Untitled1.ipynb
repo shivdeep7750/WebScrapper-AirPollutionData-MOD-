{
 "cells": [
  {
   "cell_type": "code",
   "execution_count": null,
   "metadata": {},
   "outputs": [
    {
     "name": "stdout",
     "output_type": "stream",
     "text": [
      "#####################################################2021-05-05 09:04:54\n"
     ]
    },
    {
     "name": "stderr",
     "output_type": "stream",
     "text": [
      "C:\\Users\\Shiv deep\\anaconda3\\lib\\site-packages\\urllib3\\connectionpool.py:981: InsecureRequestWarning: Unverified HTTPS request is being made to host 'app.cpcbccr.com'. Adding certificate verification is strongly advised. See: https://urllib3.readthedocs.io/en/latest/advanced-usage.html#ssl-warnings\n",
      "  warnings.warn(\n"
     ]
    },
    {
     "name": "stdout",
     "output_type": "stream",
     "text": [
      "b'eyJjcml0ZXJpYSI6IjI0IEhvdXJzIiwicmVwb3J0Rm9ybWF0IjoiVGFidWxhciIsImZyb21EYXRlIjoiMTYtMTItMjAxOCBUMDA6MDA6MDBaIiwidG9EYXRlIjoiMTctMTItMjAxOCBUMDA6MDA6MDBaIiwic3RhdGUiOiJSYWphc3RoYW4iLCJjaXR5IjoiSmFpcHVyIiwic3RhdGlvbiI6InNpdGVfMTM5MyIsInBhcmFtZXRlciI6WyJwYXJhbWV0ZXJfMjAyIiwicGFyYW1ldGVyXzIxNiIsInBhcmFtZXRlcl8yNDAiLCJwYXJhbWV0ZXJfMjQxIiwicGFyYW1ldGVyXzIzMiIsInBhcmFtZXRlcl8yMzgiLCJwYXJhbWV0ZXJfMTkzIiwicGFyYW1ldGVyXzIxNSIsInBhcmFtZXRlcl8yMzYiLCJwYXJhbWV0ZXJfMjM1IiwicGFyYW1ldGVyXzIzNyIsInBhcmFtZXRlcl8xOTgiLCJwYXJhbWV0ZXJfMjM0IiwicGFyYW1ldGVyXzIzMyIsInBhcmFtZXRlcl8yMDMiLCJwYXJhbWV0ZXJfMzExIiwicGFyYW1ldGVyXzIyNiIsInBhcmFtZXRlcl8xOTQiLCJwYXJhbWV0ZXJfMjI1IiwicGFyYW1ldGVyXzIyMiIsInBhcmFtZXRlcl8zMTIiXSwicGFyYW1ldGVyTmFtZXMiOlsiQmVuemVuZSIsIkV0aC1CZW56ZW5lIiwiTVAtWHlsZW5lIiwiTyBYeWxlbmUiLCJUb2x1ZW5lIiwiQlAiLCJQTTIuNSIsIlBNMTAiLCJSRiIsIlJIIiwiU1IiLCJUZW1wIiwiV0QiLCJXUyIsIkNPIiwiTkgzIiwiTk8iLCJOTzIiLCJOT3giLCJPem9uZSIsIlNPMiJdfQ=='\n",
      "Awesome response code 200\n",
      "#####################################################2021-05-05 09:05:01\n"
     ]
    },
    {
     "name": "stderr",
     "output_type": "stream",
     "text": [
      "C:\\Users\\Shiv deep\\anaconda3\\lib\\site-packages\\urllib3\\connectionpool.py:981: InsecureRequestWarning: Unverified HTTPS request is being made to host 'app.cpcbccr.com'. Adding certificate verification is strongly advised. See: https://urllib3.readthedocs.io/en/latest/advanced-usage.html#ssl-warnings\n",
      "  warnings.warn(\n"
     ]
    },
    {
     "name": "stdout",
     "output_type": "stream",
     "text": [
      "b'eyJjcml0ZXJpYSI6IjI0IEhvdXJzIiwicmVwb3J0Rm9ybWF0IjoiVGFidWxhciIsImZyb21EYXRlIjoiMTctMTItMjAxOCBUMDA6MDA6MDBaIiwidG9EYXRlIjoiMTgtMTItMjAxOCBUMDA6MDA6MDBaIiwic3RhdGUiOiJSYWphc3RoYW4iLCJjaXR5IjoiSmFpcHVyIiwic3RhdGlvbiI6InNpdGVfMTM5MyIsInBhcmFtZXRlciI6WyJwYXJhbWV0ZXJfMjAyIiwicGFyYW1ldGVyXzIxNiIsInBhcmFtZXRlcl8yNDAiLCJwYXJhbWV0ZXJfMjQxIiwicGFyYW1ldGVyXzIzMiIsInBhcmFtZXRlcl8yMzgiLCJwYXJhbWV0ZXJfMTkzIiwicGFyYW1ldGVyXzIxNSIsInBhcmFtZXRlcl8yMzYiLCJwYXJhbWV0ZXJfMjM1IiwicGFyYW1ldGVyXzIzNyIsInBhcmFtZXRlcl8xOTgiLCJwYXJhbWV0ZXJfMjM0IiwicGFyYW1ldGVyXzIzMyIsInBhcmFtZXRlcl8yMDMiLCJwYXJhbWV0ZXJfMzExIiwicGFyYW1ldGVyXzIyNiIsInBhcmFtZXRlcl8xOTQiLCJwYXJhbWV0ZXJfMjI1IiwicGFyYW1ldGVyXzIyMiIsInBhcmFtZXRlcl8zMTIiXSwicGFyYW1ldGVyTmFtZXMiOlsiQmVuemVuZSIsIkV0aC1CZW56ZW5lIiwiTVAtWHlsZW5lIiwiTyBYeWxlbmUiLCJUb2x1ZW5lIiwiQlAiLCJQTTIuNSIsIlBNMTAiLCJSRiIsIlJIIiwiU1IiLCJUZW1wIiwiV0QiLCJXUyIsIkNPIiwiTkgzIiwiTk8iLCJOTzIiLCJOT3giLCJPem9uZSIsIlNPMiJdfQ=='\n",
      "#####################################################2021-05-05 09:05:07\n"
     ]
    },
    {
     "name": "stderr",
     "output_type": "stream",
     "text": [
      "C:\\Users\\Shiv deep\\anaconda3\\lib\\site-packages\\urllib3\\connectionpool.py:981: InsecureRequestWarning: Unverified HTTPS request is being made to host 'app.cpcbccr.com'. Adding certificate verification is strongly advised. See: https://urllib3.readthedocs.io/en/latest/advanced-usage.html#ssl-warnings\n",
      "  warnings.warn(\n"
     ]
    },
    {
     "name": "stdout",
     "output_type": "stream",
     "text": [
      "b'eyJjcml0ZXJpYSI6IjI0IEhvdXJzIiwicmVwb3J0Rm9ybWF0IjoiVGFidWxhciIsImZyb21EYXRlIjoiMTgtMTItMjAxOCBUMDA6MDA6MDBaIiwidG9EYXRlIjoiMTktMTItMjAxOCBUMDA6MDA6MDBaIiwic3RhdGUiOiJSYWphc3RoYW4iLCJjaXR5IjoiSmFpcHVyIiwic3RhdGlvbiI6InNpdGVfMTM5MyIsInBhcmFtZXRlciI6WyJwYXJhbWV0ZXJfMjAyIiwicGFyYW1ldGVyXzIxNiIsInBhcmFtZXRlcl8yNDAiLCJwYXJhbWV0ZXJfMjQxIiwicGFyYW1ldGVyXzIzMiIsInBhcmFtZXRlcl8yMzgiLCJwYXJhbWV0ZXJfMTkzIiwicGFyYW1ldGVyXzIxNSIsInBhcmFtZXRlcl8yMzYiLCJwYXJhbWV0ZXJfMjM1IiwicGFyYW1ldGVyXzIzNyIsInBhcmFtZXRlcl8xOTgiLCJwYXJhbWV0ZXJfMjM0IiwicGFyYW1ldGVyXzIzMyIsInBhcmFtZXRlcl8yMDMiLCJwYXJhbWV0ZXJfMzExIiwicGFyYW1ldGVyXzIyNiIsInBhcmFtZXRlcl8xOTQiLCJwYXJhbWV0ZXJfMjI1IiwicGFyYW1ldGVyXzIyMiIsInBhcmFtZXRlcl8zMTIiXSwicGFyYW1ldGVyTmFtZXMiOlsiQmVuemVuZSIsIkV0aC1CZW56ZW5lIiwiTVAtWHlsZW5lIiwiTyBYeWxlbmUiLCJUb2x1ZW5lIiwiQlAiLCJQTTIuNSIsIlBNMTAiLCJSRiIsIlJIIiwiU1IiLCJUZW1wIiwiV0QiLCJXUyIsIkNPIiwiTkgzIiwiTk8iLCJOTzIiLCJOT3giLCJPem9uZSIsIlNPMiJdfQ=='\n",
      "#####################################################2021-05-05 09:05:13\n"
     ]
    },
    {
     "name": "stderr",
     "output_type": "stream",
     "text": [
      "C:\\Users\\Shiv deep\\anaconda3\\lib\\site-packages\\urllib3\\connectionpool.py:981: InsecureRequestWarning: Unverified HTTPS request is being made to host 'app.cpcbccr.com'. Adding certificate verification is strongly advised. See: https://urllib3.readthedocs.io/en/latest/advanced-usage.html#ssl-warnings\n",
      "  warnings.warn(\n"
     ]
    },
    {
     "name": "stdout",
     "output_type": "stream",
     "text": [
      "b'eyJjcml0ZXJpYSI6IjI0IEhvdXJzIiwicmVwb3J0Rm9ybWF0IjoiVGFidWxhciIsImZyb21EYXRlIjoiMTktMTItMjAxOCBUMDA6MDA6MDBaIiwidG9EYXRlIjoiMjAtMTItMjAxOCBUMDA6MDA6MDBaIiwic3RhdGUiOiJSYWphc3RoYW4iLCJjaXR5IjoiSmFpcHVyIiwic3RhdGlvbiI6InNpdGVfMTM5MyIsInBhcmFtZXRlciI6WyJwYXJhbWV0ZXJfMjAyIiwicGFyYW1ldGVyXzIxNiIsInBhcmFtZXRlcl8yNDAiLCJwYXJhbWV0ZXJfMjQxIiwicGFyYW1ldGVyXzIzMiIsInBhcmFtZXRlcl8yMzgiLCJwYXJhbWV0ZXJfMTkzIiwicGFyYW1ldGVyXzIxNSIsInBhcmFtZXRlcl8yMzYiLCJwYXJhbWV0ZXJfMjM1IiwicGFyYW1ldGVyXzIzNyIsInBhcmFtZXRlcl8xOTgiLCJwYXJhbWV0ZXJfMjM0IiwicGFyYW1ldGVyXzIzMyIsInBhcmFtZXRlcl8yMDMiLCJwYXJhbWV0ZXJfMzExIiwicGFyYW1ldGVyXzIyNiIsInBhcmFtZXRlcl8xOTQiLCJwYXJhbWV0ZXJfMjI1IiwicGFyYW1ldGVyXzIyMiIsInBhcmFtZXRlcl8zMTIiXSwicGFyYW1ldGVyTmFtZXMiOlsiQmVuemVuZSIsIkV0aC1CZW56ZW5lIiwiTVAtWHlsZW5lIiwiTyBYeWxlbmUiLCJUb2x1ZW5lIiwiQlAiLCJQTTIuNSIsIlBNMTAiLCJSRiIsIlJIIiwiU1IiLCJUZW1wIiwiV0QiLCJXUyIsIkNPIiwiTkgzIiwiTk8iLCJOTzIiLCJOT3giLCJPem9uZSIsIlNPMiJdfQ=='\n",
      "#####################################################2021-05-05 09:05:18\n"
     ]
    },
    {
     "name": "stderr",
     "output_type": "stream",
     "text": [
      "C:\\Users\\Shiv deep\\anaconda3\\lib\\site-packages\\urllib3\\connectionpool.py:981: InsecureRequestWarning: Unverified HTTPS request is being made to host 'app.cpcbccr.com'. Adding certificate verification is strongly advised. See: https://urllib3.readthedocs.io/en/latest/advanced-usage.html#ssl-warnings\n",
      "  warnings.warn(\n"
     ]
    },
    {
     "name": "stdout",
     "output_type": "stream",
     "text": [
      "b'eyJjcml0ZXJpYSI6IjI0IEhvdXJzIiwicmVwb3J0Rm9ybWF0IjoiVGFidWxhciIsImZyb21EYXRlIjoiMjAtMTItMjAxOCBUMDA6MDA6MDBaIiwidG9EYXRlIjoiMjEtMTItMjAxOCBUMDA6MDA6MDBaIiwic3RhdGUiOiJSYWphc3RoYW4iLCJjaXR5IjoiSmFpcHVyIiwic3RhdGlvbiI6InNpdGVfMTM5MyIsInBhcmFtZXRlciI6WyJwYXJhbWV0ZXJfMjAyIiwicGFyYW1ldGVyXzIxNiIsInBhcmFtZXRlcl8yNDAiLCJwYXJhbWV0ZXJfMjQxIiwicGFyYW1ldGVyXzIzMiIsInBhcmFtZXRlcl8yMzgiLCJwYXJhbWV0ZXJfMTkzIiwicGFyYW1ldGVyXzIxNSIsInBhcmFtZXRlcl8yMzYiLCJwYXJhbWV0ZXJfMjM1IiwicGFyYW1ldGVyXzIzNyIsInBhcmFtZXRlcl8xOTgiLCJwYXJhbWV0ZXJfMjM0IiwicGFyYW1ldGVyXzIzMyIsInBhcmFtZXRlcl8yMDMiLCJwYXJhbWV0ZXJfMzExIiwicGFyYW1ldGVyXzIyNiIsInBhcmFtZXRlcl8xOTQiLCJwYXJhbWV0ZXJfMjI1IiwicGFyYW1ldGVyXzIyMiIsInBhcmFtZXRlcl8zMTIiXSwicGFyYW1ldGVyTmFtZXMiOlsiQmVuemVuZSIsIkV0aC1CZW56ZW5lIiwiTVAtWHlsZW5lIiwiTyBYeWxlbmUiLCJUb2x1ZW5lIiwiQlAiLCJQTTIuNSIsIlBNMTAiLCJSRiIsIlJIIiwiU1IiLCJUZW1wIiwiV0QiLCJXUyIsIkNPIiwiTkgzIiwiTk8iLCJOTzIiLCJOT3giLCJPem9uZSIsIlNPMiJdfQ=='\n",
      "#####################################################2021-05-05 09:05:24\n"
     ]
    },
    {
     "name": "stderr",
     "output_type": "stream",
     "text": [
      "C:\\Users\\Shiv deep\\anaconda3\\lib\\site-packages\\urllib3\\connectionpool.py:981: InsecureRequestWarning: Unverified HTTPS request is being made to host 'app.cpcbccr.com'. Adding certificate verification is strongly advised. See: https://urllib3.readthedocs.io/en/latest/advanced-usage.html#ssl-warnings\n",
      "  warnings.warn(\n"
     ]
    },
    {
     "name": "stdout",
     "output_type": "stream",
     "text": [
      "b'eyJjcml0ZXJpYSI6IjI0IEhvdXJzIiwicmVwb3J0Rm9ybWF0IjoiVGFidWxhciIsImZyb21EYXRlIjoiMjEtMTItMjAxOCBUMDA6MDA6MDBaIiwidG9EYXRlIjoiMjItMTItMjAxOCBUMDA6MDA6MDBaIiwic3RhdGUiOiJSYWphc3RoYW4iLCJjaXR5IjoiSmFpcHVyIiwic3RhdGlvbiI6InNpdGVfMTM5MyIsInBhcmFtZXRlciI6WyJwYXJhbWV0ZXJfMjAyIiwicGFyYW1ldGVyXzIxNiIsInBhcmFtZXRlcl8yNDAiLCJwYXJhbWV0ZXJfMjQxIiwicGFyYW1ldGVyXzIzMiIsInBhcmFtZXRlcl8yMzgiLCJwYXJhbWV0ZXJfMTkzIiwicGFyYW1ldGVyXzIxNSIsInBhcmFtZXRlcl8yMzYiLCJwYXJhbWV0ZXJfMjM1IiwicGFyYW1ldGVyXzIzNyIsInBhcmFtZXRlcl8xOTgiLCJwYXJhbWV0ZXJfMjM0IiwicGFyYW1ldGVyXzIzMyIsInBhcmFtZXRlcl8yMDMiLCJwYXJhbWV0ZXJfMzExIiwicGFyYW1ldGVyXzIyNiIsInBhcmFtZXRlcl8xOTQiLCJwYXJhbWV0ZXJfMjI1IiwicGFyYW1ldGVyXzIyMiIsInBhcmFtZXRlcl8zMTIiXSwicGFyYW1ldGVyTmFtZXMiOlsiQmVuemVuZSIsIkV0aC1CZW56ZW5lIiwiTVAtWHlsZW5lIiwiTyBYeWxlbmUiLCJUb2x1ZW5lIiwiQlAiLCJQTTIuNSIsIlBNMTAiLCJSRiIsIlJIIiwiU1IiLCJUZW1wIiwiV0QiLCJXUyIsIkNPIiwiTkgzIiwiTk8iLCJOTzIiLCJOT3giLCJPem9uZSIsIlNPMiJdfQ=='\n",
      "Awesome response code 200\n",
      "#####################################################2021-05-05 09:05:36\n"
     ]
    },
    {
     "name": "stderr",
     "output_type": "stream",
     "text": [
      "C:\\Users\\Shiv deep\\anaconda3\\lib\\site-packages\\urllib3\\connectionpool.py:981: InsecureRequestWarning: Unverified HTTPS request is being made to host 'app.cpcbccr.com'. Adding certificate verification is strongly advised. See: https://urllib3.readthedocs.io/en/latest/advanced-usage.html#ssl-warnings\n",
      "  warnings.warn(\n"
     ]
    },
    {
     "name": "stdout",
     "output_type": "stream",
     "text": [
      "b'eyJjcml0ZXJpYSI6IjI0IEhvdXJzIiwicmVwb3J0Rm9ybWF0IjoiVGFidWxhciIsImZyb21EYXRlIjoiMjItMTItMjAxOCBUMDA6MDA6MDBaIiwidG9EYXRlIjoiMjMtMTItMjAxOCBUMDA6MDA6MDBaIiwic3RhdGUiOiJSYWphc3RoYW4iLCJjaXR5IjoiSmFpcHVyIiwic3RhdGlvbiI6InNpdGVfMTM5MyIsInBhcmFtZXRlciI6WyJwYXJhbWV0ZXJfMjAyIiwicGFyYW1ldGVyXzIxNiIsInBhcmFtZXRlcl8yNDAiLCJwYXJhbWV0ZXJfMjQxIiwicGFyYW1ldGVyXzIzMiIsInBhcmFtZXRlcl8yMzgiLCJwYXJhbWV0ZXJfMTkzIiwicGFyYW1ldGVyXzIxNSIsInBhcmFtZXRlcl8yMzYiLCJwYXJhbWV0ZXJfMjM1IiwicGFyYW1ldGVyXzIzNyIsInBhcmFtZXRlcl8xOTgiLCJwYXJhbWV0ZXJfMjM0IiwicGFyYW1ldGVyXzIzMyIsInBhcmFtZXRlcl8yMDMiLCJwYXJhbWV0ZXJfMzExIiwicGFyYW1ldGVyXzIyNiIsInBhcmFtZXRlcl8xOTQiLCJwYXJhbWV0ZXJfMjI1IiwicGFyYW1ldGVyXzIyMiIsInBhcmFtZXRlcl8zMTIiXSwicGFyYW1ldGVyTmFtZXMiOlsiQmVuemVuZSIsIkV0aC1CZW56ZW5lIiwiTVAtWHlsZW5lIiwiTyBYeWxlbmUiLCJUb2x1ZW5lIiwiQlAiLCJQTTIuNSIsIlBNMTAiLCJSRiIsIlJIIiwiU1IiLCJUZW1wIiwiV0QiLCJXUyIsIkNPIiwiTkgzIiwiTk8iLCJOTzIiLCJOT3giLCJPem9uZSIsIlNPMiJdfQ=='\n",
      "Awesome response code 200\n",
      "#####################################################2021-05-05 09:05:42\n"
     ]
    },
    {
     "name": "stderr",
     "output_type": "stream",
     "text": [
      "C:\\Users\\Shiv deep\\anaconda3\\lib\\site-packages\\urllib3\\connectionpool.py:981: InsecureRequestWarning: Unverified HTTPS request is being made to host 'app.cpcbccr.com'. Adding certificate verification is strongly advised. See: https://urllib3.readthedocs.io/en/latest/advanced-usage.html#ssl-warnings\n",
      "  warnings.warn(\n"
     ]
    },
    {
     "name": "stdout",
     "output_type": "stream",
     "text": [
      "b'eyJjcml0ZXJpYSI6IjI0IEhvdXJzIiwicmVwb3J0Rm9ybWF0IjoiVGFidWxhciIsImZyb21EYXRlIjoiMjMtMTItMjAxOCBUMDA6MDA6MDBaIiwidG9EYXRlIjoiMjQtMTItMjAxOCBUMDA6MDA6MDBaIiwic3RhdGUiOiJSYWphc3RoYW4iLCJjaXR5IjoiSmFpcHVyIiwic3RhdGlvbiI6InNpdGVfMTM5MyIsInBhcmFtZXRlciI6WyJwYXJhbWV0ZXJfMjAyIiwicGFyYW1ldGVyXzIxNiIsInBhcmFtZXRlcl8yNDAiLCJwYXJhbWV0ZXJfMjQxIiwicGFyYW1ldGVyXzIzMiIsInBhcmFtZXRlcl8yMzgiLCJwYXJhbWV0ZXJfMTkzIiwicGFyYW1ldGVyXzIxNSIsInBhcmFtZXRlcl8yMzYiLCJwYXJhbWV0ZXJfMjM1IiwicGFyYW1ldGVyXzIzNyIsInBhcmFtZXRlcl8xOTgiLCJwYXJhbWV0ZXJfMjM0IiwicGFyYW1ldGVyXzIzMyIsInBhcmFtZXRlcl8yMDMiLCJwYXJhbWV0ZXJfMzExIiwicGFyYW1ldGVyXzIyNiIsInBhcmFtZXRlcl8xOTQiLCJwYXJhbWV0ZXJfMjI1IiwicGFyYW1ldGVyXzIyMiIsInBhcmFtZXRlcl8zMTIiXSwicGFyYW1ldGVyTmFtZXMiOlsiQmVuemVuZSIsIkV0aC1CZW56ZW5lIiwiTVAtWHlsZW5lIiwiTyBYeWxlbmUiLCJUb2x1ZW5lIiwiQlAiLCJQTTIuNSIsIlBNMTAiLCJSRiIsIlJIIiwiU1IiLCJUZW1wIiwiV0QiLCJXUyIsIkNPIiwiTkgzIiwiTk8iLCJOTzIiLCJOT3giLCJPem9uZSIsIlNPMiJdfQ=='\n",
      "Awesome response code 200\n",
      "#####################################################2021-05-05 09:05:53\n"
     ]
    },
    {
     "name": "stderr",
     "output_type": "stream",
     "text": [
      "C:\\Users\\Shiv deep\\anaconda3\\lib\\site-packages\\urllib3\\connectionpool.py:981: InsecureRequestWarning: Unverified HTTPS request is being made to host 'app.cpcbccr.com'. Adding certificate verification is strongly advised. See: https://urllib3.readthedocs.io/en/latest/advanced-usage.html#ssl-warnings\n",
      "  warnings.warn(\n"
     ]
    },
    {
     "name": "stdout",
     "output_type": "stream",
     "text": [
      "b'eyJjcml0ZXJpYSI6IjI0IEhvdXJzIiwicmVwb3J0Rm9ybWF0IjoiVGFidWxhciIsImZyb21EYXRlIjoiMjQtMTItMjAxOCBUMDA6MDA6MDBaIiwidG9EYXRlIjoiMjUtMTItMjAxOCBUMDA6MDA6MDBaIiwic3RhdGUiOiJSYWphc3RoYW4iLCJjaXR5IjoiSmFpcHVyIiwic3RhdGlvbiI6InNpdGVfMTM5MyIsInBhcmFtZXRlciI6WyJwYXJhbWV0ZXJfMjAyIiwicGFyYW1ldGVyXzIxNiIsInBhcmFtZXRlcl8yNDAiLCJwYXJhbWV0ZXJfMjQxIiwicGFyYW1ldGVyXzIzMiIsInBhcmFtZXRlcl8yMzgiLCJwYXJhbWV0ZXJfMTkzIiwicGFyYW1ldGVyXzIxNSIsInBhcmFtZXRlcl8yMzYiLCJwYXJhbWV0ZXJfMjM1IiwicGFyYW1ldGVyXzIzNyIsInBhcmFtZXRlcl8xOTgiLCJwYXJhbWV0ZXJfMjM0IiwicGFyYW1ldGVyXzIzMyIsInBhcmFtZXRlcl8yMDMiLCJwYXJhbWV0ZXJfMzExIiwicGFyYW1ldGVyXzIyNiIsInBhcmFtZXRlcl8xOTQiLCJwYXJhbWV0ZXJfMjI1IiwicGFyYW1ldGVyXzIyMiIsInBhcmFtZXRlcl8zMTIiXSwicGFyYW1ldGVyTmFtZXMiOlsiQmVuemVuZSIsIkV0aC1CZW56ZW5lIiwiTVAtWHlsZW5lIiwiTyBYeWxlbmUiLCJUb2x1ZW5lIiwiQlAiLCJQTTIuNSIsIlBNMTAiLCJSRiIsIlJIIiwiU1IiLCJUZW1wIiwiV0QiLCJXUyIsIkNPIiwiTkgzIiwiTk8iLCJOTzIiLCJOT3giLCJPem9uZSIsIlNPMiJdfQ=='\n",
      "Awesome response code 200\n",
      "#####################################################2021-05-05 09:06:02\n"
     ]
    },
    {
     "name": "stderr",
     "output_type": "stream",
     "text": [
      "C:\\Users\\Shiv deep\\anaconda3\\lib\\site-packages\\urllib3\\connectionpool.py:981: InsecureRequestWarning: Unverified HTTPS request is being made to host 'app.cpcbccr.com'. Adding certificate verification is strongly advised. See: https://urllib3.readthedocs.io/en/latest/advanced-usage.html#ssl-warnings\n",
      "  warnings.warn(\n"
     ]
    },
    {
     "name": "stdout",
     "output_type": "stream",
     "text": [
      "b'eyJjcml0ZXJpYSI6IjI0IEhvdXJzIiwicmVwb3J0Rm9ybWF0IjoiVGFidWxhciIsImZyb21EYXRlIjoiMjUtMTItMjAxOCBUMDA6MDA6MDBaIiwidG9EYXRlIjoiMjYtMTItMjAxOCBUMDA6MDA6MDBaIiwic3RhdGUiOiJSYWphc3RoYW4iLCJjaXR5IjoiSmFpcHVyIiwic3RhdGlvbiI6InNpdGVfMTM5MyIsInBhcmFtZXRlciI6WyJwYXJhbWV0ZXJfMjAyIiwicGFyYW1ldGVyXzIxNiIsInBhcmFtZXRlcl8yNDAiLCJwYXJhbWV0ZXJfMjQxIiwicGFyYW1ldGVyXzIzMiIsInBhcmFtZXRlcl8yMzgiLCJwYXJhbWV0ZXJfMTkzIiwicGFyYW1ldGVyXzIxNSIsInBhcmFtZXRlcl8yMzYiLCJwYXJhbWV0ZXJfMjM1IiwicGFyYW1ldGVyXzIzNyIsInBhcmFtZXRlcl8xOTgiLCJwYXJhbWV0ZXJfMjM0IiwicGFyYW1ldGVyXzIzMyIsInBhcmFtZXRlcl8yMDMiLCJwYXJhbWV0ZXJfMzExIiwicGFyYW1ldGVyXzIyNiIsInBhcmFtZXRlcl8xOTQiLCJwYXJhbWV0ZXJfMjI1IiwicGFyYW1ldGVyXzIyMiIsInBhcmFtZXRlcl8zMTIiXSwicGFyYW1ldGVyTmFtZXMiOlsiQmVuemVuZSIsIkV0aC1CZW56ZW5lIiwiTVAtWHlsZW5lIiwiTyBYeWxlbmUiLCJUb2x1ZW5lIiwiQlAiLCJQTTIuNSIsIlBNMTAiLCJSRiIsIlJIIiwiU1IiLCJUZW1wIiwiV0QiLCJXUyIsIkNPIiwiTkgzIiwiTk8iLCJOTzIiLCJOT3giLCJPem9uZSIsIlNPMiJdfQ=='\n",
      "Awesome response code 200\n",
      "#####################################################2021-05-05 09:06:10\n"
     ]
    },
    {
     "name": "stderr",
     "output_type": "stream",
     "text": [
      "C:\\Users\\Shiv deep\\anaconda3\\lib\\site-packages\\urllib3\\connectionpool.py:981: InsecureRequestWarning: Unverified HTTPS request is being made to host 'app.cpcbccr.com'. Adding certificate verification is strongly advised. See: https://urllib3.readthedocs.io/en/latest/advanced-usage.html#ssl-warnings\n",
      "  warnings.warn(\n"
     ]
    },
    {
     "name": "stdout",
     "output_type": "stream",
     "text": [
      "b'eyJjcml0ZXJpYSI6IjI0IEhvdXJzIiwicmVwb3J0Rm9ybWF0IjoiVGFidWxhciIsImZyb21EYXRlIjoiMjYtMTItMjAxOCBUMDA6MDA6MDBaIiwidG9EYXRlIjoiMjctMTItMjAxOCBUMDA6MDA6MDBaIiwic3RhdGUiOiJSYWphc3RoYW4iLCJjaXR5IjoiSmFpcHVyIiwic3RhdGlvbiI6InNpdGVfMTM5MyIsInBhcmFtZXRlciI6WyJwYXJhbWV0ZXJfMjAyIiwicGFyYW1ldGVyXzIxNiIsInBhcmFtZXRlcl8yNDAiLCJwYXJhbWV0ZXJfMjQxIiwicGFyYW1ldGVyXzIzMiIsInBhcmFtZXRlcl8yMzgiLCJwYXJhbWV0ZXJfMTkzIiwicGFyYW1ldGVyXzIxNSIsInBhcmFtZXRlcl8yMzYiLCJwYXJhbWV0ZXJfMjM1IiwicGFyYW1ldGVyXzIzNyIsInBhcmFtZXRlcl8xOTgiLCJwYXJhbWV0ZXJfMjM0IiwicGFyYW1ldGVyXzIzMyIsInBhcmFtZXRlcl8yMDMiLCJwYXJhbWV0ZXJfMzExIiwicGFyYW1ldGVyXzIyNiIsInBhcmFtZXRlcl8xOTQiLCJwYXJhbWV0ZXJfMjI1IiwicGFyYW1ldGVyXzIyMiIsInBhcmFtZXRlcl8zMTIiXSwicGFyYW1ldGVyTmFtZXMiOlsiQmVuemVuZSIsIkV0aC1CZW56ZW5lIiwiTVAtWHlsZW5lIiwiTyBYeWxlbmUiLCJUb2x1ZW5lIiwiQlAiLCJQTTIuNSIsIlBNMTAiLCJSRiIsIlJIIiwiU1IiLCJUZW1wIiwiV0QiLCJXUyIsIkNPIiwiTkgzIiwiTk8iLCJOTzIiLCJOT3giLCJPem9uZSIsIlNPMiJdfQ=='\n",
      "Awesome response code 200\n",
      "#####################################################2021-05-05 09:06:18\n"
     ]
    },
    {
     "name": "stderr",
     "output_type": "stream",
     "text": [
      "C:\\Users\\Shiv deep\\anaconda3\\lib\\site-packages\\urllib3\\connectionpool.py:981: InsecureRequestWarning: Unverified HTTPS request is being made to host 'app.cpcbccr.com'. Adding certificate verification is strongly advised. See: https://urllib3.readthedocs.io/en/latest/advanced-usage.html#ssl-warnings\n",
      "  warnings.warn(\n"
     ]
    },
    {
     "name": "stdout",
     "output_type": "stream",
     "text": [
      "b'eyJjcml0ZXJpYSI6IjI0IEhvdXJzIiwicmVwb3J0Rm9ybWF0IjoiVGFidWxhciIsImZyb21EYXRlIjoiMjctMTItMjAxOCBUMDA6MDA6MDBaIiwidG9EYXRlIjoiMjgtMTItMjAxOCBUMDA6MDA6MDBaIiwic3RhdGUiOiJSYWphc3RoYW4iLCJjaXR5IjoiSmFpcHVyIiwic3RhdGlvbiI6InNpdGVfMTM5MyIsInBhcmFtZXRlciI6WyJwYXJhbWV0ZXJfMjAyIiwicGFyYW1ldGVyXzIxNiIsInBhcmFtZXRlcl8yNDAiLCJwYXJhbWV0ZXJfMjQxIiwicGFyYW1ldGVyXzIzMiIsInBhcmFtZXRlcl8yMzgiLCJwYXJhbWV0ZXJfMTkzIiwicGFyYW1ldGVyXzIxNSIsInBhcmFtZXRlcl8yMzYiLCJwYXJhbWV0ZXJfMjM1IiwicGFyYW1ldGVyXzIzNyIsInBhcmFtZXRlcl8xOTgiLCJwYXJhbWV0ZXJfMjM0IiwicGFyYW1ldGVyXzIzMyIsInBhcmFtZXRlcl8yMDMiLCJwYXJhbWV0ZXJfMzExIiwicGFyYW1ldGVyXzIyNiIsInBhcmFtZXRlcl8xOTQiLCJwYXJhbWV0ZXJfMjI1IiwicGFyYW1ldGVyXzIyMiIsInBhcmFtZXRlcl8zMTIiXSwicGFyYW1ldGVyTmFtZXMiOlsiQmVuemVuZSIsIkV0aC1CZW56ZW5lIiwiTVAtWHlsZW5lIiwiTyBYeWxlbmUiLCJUb2x1ZW5lIiwiQlAiLCJQTTIuNSIsIlBNMTAiLCJSRiIsIlJIIiwiU1IiLCJUZW1wIiwiV0QiLCJXUyIsIkNPIiwiTkgzIiwiTk8iLCJOTzIiLCJOT3giLCJPem9uZSIsIlNPMiJdfQ=='\n",
      "Awesome response code 200\n",
      "#####################################################2021-05-05 09:06:25\n"
     ]
    },
    {
     "name": "stderr",
     "output_type": "stream",
     "text": [
      "C:\\Users\\Shiv deep\\anaconda3\\lib\\site-packages\\urllib3\\connectionpool.py:981: InsecureRequestWarning: Unverified HTTPS request is being made to host 'app.cpcbccr.com'. Adding certificate verification is strongly advised. See: https://urllib3.readthedocs.io/en/latest/advanced-usage.html#ssl-warnings\n",
      "  warnings.warn(\n"
     ]
    },
    {
     "name": "stdout",
     "output_type": "stream",
     "text": [
      "b'eyJjcml0ZXJpYSI6IjI0IEhvdXJzIiwicmVwb3J0Rm9ybWF0IjoiVGFidWxhciIsImZyb21EYXRlIjoiMjgtMTItMjAxOCBUMDA6MDA6MDBaIiwidG9EYXRlIjoiMjktMTItMjAxOCBUMDA6MDA6MDBaIiwic3RhdGUiOiJSYWphc3RoYW4iLCJjaXR5IjoiSmFpcHVyIiwic3RhdGlvbiI6InNpdGVfMTM5MyIsInBhcmFtZXRlciI6WyJwYXJhbWV0ZXJfMjAyIiwicGFyYW1ldGVyXzIxNiIsInBhcmFtZXRlcl8yNDAiLCJwYXJhbWV0ZXJfMjQxIiwicGFyYW1ldGVyXzIzMiIsInBhcmFtZXRlcl8yMzgiLCJwYXJhbWV0ZXJfMTkzIiwicGFyYW1ldGVyXzIxNSIsInBhcmFtZXRlcl8yMzYiLCJwYXJhbWV0ZXJfMjM1IiwicGFyYW1ldGVyXzIzNyIsInBhcmFtZXRlcl8xOTgiLCJwYXJhbWV0ZXJfMjM0IiwicGFyYW1ldGVyXzIzMyIsInBhcmFtZXRlcl8yMDMiLCJwYXJhbWV0ZXJfMzExIiwicGFyYW1ldGVyXzIyNiIsInBhcmFtZXRlcl8xOTQiLCJwYXJhbWV0ZXJfMjI1IiwicGFyYW1ldGVyXzIyMiIsInBhcmFtZXRlcl8zMTIiXSwicGFyYW1ldGVyTmFtZXMiOlsiQmVuemVuZSIsIkV0aC1CZW56ZW5lIiwiTVAtWHlsZW5lIiwiTyBYeWxlbmUiLCJUb2x1ZW5lIiwiQlAiLCJQTTIuNSIsIlBNMTAiLCJSRiIsIlJIIiwiU1IiLCJUZW1wIiwiV0QiLCJXUyIsIkNPIiwiTkgzIiwiTk8iLCJOTzIiLCJOT3giLCJPem9uZSIsIlNPMiJdfQ=='\n",
      "Awesome response code 200\n",
      "#####################################################2021-05-05 09:06:31\n"
     ]
    },
    {
     "name": "stderr",
     "output_type": "stream",
     "text": [
      "C:\\Users\\Shiv deep\\anaconda3\\lib\\site-packages\\urllib3\\connectionpool.py:981: InsecureRequestWarning: Unverified HTTPS request is being made to host 'app.cpcbccr.com'. Adding certificate verification is strongly advised. See: https://urllib3.readthedocs.io/en/latest/advanced-usage.html#ssl-warnings\n",
      "  warnings.warn(\n"
     ]
    },
    {
     "name": "stdout",
     "output_type": "stream",
     "text": [
      "b'eyJjcml0ZXJpYSI6IjI0IEhvdXJzIiwicmVwb3J0Rm9ybWF0IjoiVGFidWxhciIsImZyb21EYXRlIjoiMjktMTItMjAxOCBUMDA6MDA6MDBaIiwidG9EYXRlIjoiMzAtMTItMjAxOCBUMDA6MDA6MDBaIiwic3RhdGUiOiJSYWphc3RoYW4iLCJjaXR5IjoiSmFpcHVyIiwic3RhdGlvbiI6InNpdGVfMTM5MyIsInBhcmFtZXRlciI6WyJwYXJhbWV0ZXJfMjAyIiwicGFyYW1ldGVyXzIxNiIsInBhcmFtZXRlcl8yNDAiLCJwYXJhbWV0ZXJfMjQxIiwicGFyYW1ldGVyXzIzMiIsInBhcmFtZXRlcl8yMzgiLCJwYXJhbWV0ZXJfMTkzIiwicGFyYW1ldGVyXzIxNSIsInBhcmFtZXRlcl8yMzYiLCJwYXJhbWV0ZXJfMjM1IiwicGFyYW1ldGVyXzIzNyIsInBhcmFtZXRlcl8xOTgiLCJwYXJhbWV0ZXJfMjM0IiwicGFyYW1ldGVyXzIzMyIsInBhcmFtZXRlcl8yMDMiLCJwYXJhbWV0ZXJfMzExIiwicGFyYW1ldGVyXzIyNiIsInBhcmFtZXRlcl8xOTQiLCJwYXJhbWV0ZXJfMjI1IiwicGFyYW1ldGVyXzIyMiIsInBhcmFtZXRlcl8zMTIiXSwicGFyYW1ldGVyTmFtZXMiOlsiQmVuemVuZSIsIkV0aC1CZW56ZW5lIiwiTVAtWHlsZW5lIiwiTyBYeWxlbmUiLCJUb2x1ZW5lIiwiQlAiLCJQTTIuNSIsIlBNMTAiLCJSRiIsIlJIIiwiU1IiLCJUZW1wIiwiV0QiLCJXUyIsIkNPIiwiTkgzIiwiTk8iLCJOTzIiLCJOT3giLCJPem9uZSIsIlNPMiJdfQ=='\n",
      "Awesome response code 200\n",
      "#####################################################2021-05-05 09:06:38\n"
     ]
    },
    {
     "name": "stderr",
     "output_type": "stream",
     "text": [
      "C:\\Users\\Shiv deep\\anaconda3\\lib\\site-packages\\urllib3\\connectionpool.py:981: InsecureRequestWarning: Unverified HTTPS request is being made to host 'app.cpcbccr.com'. Adding certificate verification is strongly advised. See: https://urllib3.readthedocs.io/en/latest/advanced-usage.html#ssl-warnings\n",
      "  warnings.warn(\n"
     ]
    },
    {
     "name": "stdout",
     "output_type": "stream",
     "text": [
      "b'eyJjcml0ZXJpYSI6IjI0IEhvdXJzIiwicmVwb3J0Rm9ybWF0IjoiVGFidWxhciIsImZyb21EYXRlIjoiMzAtMTItMjAxOCBUMDA6MDA6MDBaIiwidG9EYXRlIjoiMzEtMTItMjAxOCBUMDA6MDA6MDBaIiwic3RhdGUiOiJSYWphc3RoYW4iLCJjaXR5IjoiSmFpcHVyIiwic3RhdGlvbiI6InNpdGVfMTM5MyIsInBhcmFtZXRlciI6WyJwYXJhbWV0ZXJfMjAyIiwicGFyYW1ldGVyXzIxNiIsInBhcmFtZXRlcl8yNDAiLCJwYXJhbWV0ZXJfMjQxIiwicGFyYW1ldGVyXzIzMiIsInBhcmFtZXRlcl8yMzgiLCJwYXJhbWV0ZXJfMTkzIiwicGFyYW1ldGVyXzIxNSIsInBhcmFtZXRlcl8yMzYiLCJwYXJhbWV0ZXJfMjM1IiwicGFyYW1ldGVyXzIzNyIsInBhcmFtZXRlcl8xOTgiLCJwYXJhbWV0ZXJfMjM0IiwicGFyYW1ldGVyXzIzMyIsInBhcmFtZXRlcl8yMDMiLCJwYXJhbWV0ZXJfMzExIiwicGFyYW1ldGVyXzIyNiIsInBhcmFtZXRlcl8xOTQiLCJwYXJhbWV0ZXJfMjI1IiwicGFyYW1ldGVyXzIyMiIsInBhcmFtZXRlcl8zMTIiXSwicGFyYW1ldGVyTmFtZXMiOlsiQmVuemVuZSIsIkV0aC1CZW56ZW5lIiwiTVAtWHlsZW5lIiwiTyBYeWxlbmUiLCJUb2x1ZW5lIiwiQlAiLCJQTTIuNSIsIlBNMTAiLCJSRiIsIlJIIiwiU1IiLCJUZW1wIiwiV0QiLCJXUyIsIkNPIiwiTkgzIiwiTk8iLCJOTzIiLCJOT3giLCJPem9uZSIsIlNPMiJdfQ=='\n",
      "Awesome response code 200\n",
      "#####################################################2021-05-05 09:06:45\n"
     ]
    },
    {
     "name": "stderr",
     "output_type": "stream",
     "text": [
      "C:\\Users\\Shiv deep\\anaconda3\\lib\\site-packages\\urllib3\\connectionpool.py:981: InsecureRequestWarning: Unverified HTTPS request is being made to host 'app.cpcbccr.com'. Adding certificate verification is strongly advised. See: https://urllib3.readthedocs.io/en/latest/advanced-usage.html#ssl-warnings\n",
      "  warnings.warn(\n"
     ]
    },
    {
     "name": "stdout",
     "output_type": "stream",
     "text": [
      "b'eyJjcml0ZXJpYSI6IjI0IEhvdXJzIiwicmVwb3J0Rm9ybWF0IjoiVGFidWxhciIsImZyb21EYXRlIjoiMzEtMTItMjAxOCBUMDA6MDA6MDBaIiwidG9EYXRlIjoiMDEtMDEtMjAxOSBUMDA6MDA6MDBaIiwic3RhdGUiOiJSYWphc3RoYW4iLCJjaXR5IjoiSmFpcHVyIiwic3RhdGlvbiI6InNpdGVfMTM5MyIsInBhcmFtZXRlciI6WyJwYXJhbWV0ZXJfMjAyIiwicGFyYW1ldGVyXzIxNiIsInBhcmFtZXRlcl8yNDAiLCJwYXJhbWV0ZXJfMjQxIiwicGFyYW1ldGVyXzIzMiIsInBhcmFtZXRlcl8yMzgiLCJwYXJhbWV0ZXJfMTkzIiwicGFyYW1ldGVyXzIxNSIsInBhcmFtZXRlcl8yMzYiLCJwYXJhbWV0ZXJfMjM1IiwicGFyYW1ldGVyXzIzNyIsInBhcmFtZXRlcl8xOTgiLCJwYXJhbWV0ZXJfMjM0IiwicGFyYW1ldGVyXzIzMyIsInBhcmFtZXRlcl8yMDMiLCJwYXJhbWV0ZXJfMzExIiwicGFyYW1ldGVyXzIyNiIsInBhcmFtZXRlcl8xOTQiLCJwYXJhbWV0ZXJfMjI1IiwicGFyYW1ldGVyXzIyMiIsInBhcmFtZXRlcl8zMTIiXSwicGFyYW1ldGVyTmFtZXMiOlsiQmVuemVuZSIsIkV0aC1CZW56ZW5lIiwiTVAtWHlsZW5lIiwiTyBYeWxlbmUiLCJUb2x1ZW5lIiwiQlAiLCJQTTIuNSIsIlBNMTAiLCJSRiIsIlJIIiwiU1IiLCJUZW1wIiwiV0QiLCJXUyIsIkNPIiwiTkgzIiwiTk8iLCJOTzIiLCJOT3giLCJPem9uZSIsIlNPMiJdfQ=='\n",
      "Awesome response code 200\n",
      "#####################################################2021-05-05 09:06:53\n"
     ]
    },
    {
     "name": "stderr",
     "output_type": "stream",
     "text": [
      "C:\\Users\\Shiv deep\\anaconda3\\lib\\site-packages\\urllib3\\connectionpool.py:981: InsecureRequestWarning: Unverified HTTPS request is being made to host 'app.cpcbccr.com'. Adding certificate verification is strongly advised. See: https://urllib3.readthedocs.io/en/latest/advanced-usage.html#ssl-warnings\n",
      "  warnings.warn(\n"
     ]
    },
    {
     "name": "stdout",
     "output_type": "stream",
     "text": [
      "b'eyJjcml0ZXJpYSI6IjI0IEhvdXJzIiwicmVwb3J0Rm9ybWF0IjoiVGFidWxhciIsImZyb21EYXRlIjoiMDEtMDEtMjAxOSBUMDA6MDA6MDBaIiwidG9EYXRlIjoiMDItMDEtMjAxOSBUMDA6MDA6MDBaIiwic3RhdGUiOiJSYWphc3RoYW4iLCJjaXR5IjoiSmFpcHVyIiwic3RhdGlvbiI6InNpdGVfMTM5MyIsInBhcmFtZXRlciI6WyJwYXJhbWV0ZXJfMjAyIiwicGFyYW1ldGVyXzIxNiIsInBhcmFtZXRlcl8yNDAiLCJwYXJhbWV0ZXJfMjQxIiwicGFyYW1ldGVyXzIzMiIsInBhcmFtZXRlcl8yMzgiLCJwYXJhbWV0ZXJfMTkzIiwicGFyYW1ldGVyXzIxNSIsInBhcmFtZXRlcl8yMzYiLCJwYXJhbWV0ZXJfMjM1IiwicGFyYW1ldGVyXzIzNyIsInBhcmFtZXRlcl8xOTgiLCJwYXJhbWV0ZXJfMjM0IiwicGFyYW1ldGVyXzIzMyIsInBhcmFtZXRlcl8yMDMiLCJwYXJhbWV0ZXJfMzExIiwicGFyYW1ldGVyXzIyNiIsInBhcmFtZXRlcl8xOTQiLCJwYXJhbWV0ZXJfMjI1IiwicGFyYW1ldGVyXzIyMiIsInBhcmFtZXRlcl8zMTIiXSwicGFyYW1ldGVyTmFtZXMiOlsiQmVuemVuZSIsIkV0aC1CZW56ZW5lIiwiTVAtWHlsZW5lIiwiTyBYeWxlbmUiLCJUb2x1ZW5lIiwiQlAiLCJQTTIuNSIsIlBNMTAiLCJSRiIsIlJIIiwiU1IiLCJUZW1wIiwiV0QiLCJXUyIsIkNPIiwiTkgzIiwiTk8iLCJOTzIiLCJOT3giLCJPem9uZSIsIlNPMiJdfQ=='\n",
      "Awesome response code 200\n",
      "#####################################################2021-05-05 09:07:02\n"
     ]
    },
    {
     "name": "stderr",
     "output_type": "stream",
     "text": [
      "C:\\Users\\Shiv deep\\anaconda3\\lib\\site-packages\\urllib3\\connectionpool.py:981: InsecureRequestWarning: Unverified HTTPS request is being made to host 'app.cpcbccr.com'. Adding certificate verification is strongly advised. See: https://urllib3.readthedocs.io/en/latest/advanced-usage.html#ssl-warnings\n",
      "  warnings.warn(\n"
     ]
    },
    {
     "name": "stdout",
     "output_type": "stream",
     "text": [
      "b'eyJjcml0ZXJpYSI6IjI0IEhvdXJzIiwicmVwb3J0Rm9ybWF0IjoiVGFidWxhciIsImZyb21EYXRlIjoiMDItMDEtMjAxOSBUMDA6MDA6MDBaIiwidG9EYXRlIjoiMDMtMDEtMjAxOSBUMDA6MDA6MDBaIiwic3RhdGUiOiJSYWphc3RoYW4iLCJjaXR5IjoiSmFpcHVyIiwic3RhdGlvbiI6InNpdGVfMTM5MyIsInBhcmFtZXRlciI6WyJwYXJhbWV0ZXJfMjAyIiwicGFyYW1ldGVyXzIxNiIsInBhcmFtZXRlcl8yNDAiLCJwYXJhbWV0ZXJfMjQxIiwicGFyYW1ldGVyXzIzMiIsInBhcmFtZXRlcl8yMzgiLCJwYXJhbWV0ZXJfMTkzIiwicGFyYW1ldGVyXzIxNSIsInBhcmFtZXRlcl8yMzYiLCJwYXJhbWV0ZXJfMjM1IiwicGFyYW1ldGVyXzIzNyIsInBhcmFtZXRlcl8xOTgiLCJwYXJhbWV0ZXJfMjM0IiwicGFyYW1ldGVyXzIzMyIsInBhcmFtZXRlcl8yMDMiLCJwYXJhbWV0ZXJfMzExIiwicGFyYW1ldGVyXzIyNiIsInBhcmFtZXRlcl8xOTQiLCJwYXJhbWV0ZXJfMjI1IiwicGFyYW1ldGVyXzIyMiIsInBhcmFtZXRlcl8zMTIiXSwicGFyYW1ldGVyTmFtZXMiOlsiQmVuemVuZSIsIkV0aC1CZW56ZW5lIiwiTVAtWHlsZW5lIiwiTyBYeWxlbmUiLCJUb2x1ZW5lIiwiQlAiLCJQTTIuNSIsIlBNMTAiLCJSRiIsIlJIIiwiU1IiLCJUZW1wIiwiV0QiLCJXUyIsIkNPIiwiTkgzIiwiTk8iLCJOTzIiLCJOT3giLCJPem9uZSIsIlNPMiJdfQ=='\n",
      "Awesome response code 200\n",
      "#####################################################2021-05-05 09:07:08\n"
     ]
    },
    {
     "name": "stderr",
     "output_type": "stream",
     "text": [
      "C:\\Users\\Shiv deep\\anaconda3\\lib\\site-packages\\urllib3\\connectionpool.py:981: InsecureRequestWarning: Unverified HTTPS request is being made to host 'app.cpcbccr.com'. Adding certificate verification is strongly advised. See: https://urllib3.readthedocs.io/en/latest/advanced-usage.html#ssl-warnings\n",
      "  warnings.warn(\n"
     ]
    },
    {
     "name": "stdout",
     "output_type": "stream",
     "text": [
      "b'eyJjcml0ZXJpYSI6IjI0IEhvdXJzIiwicmVwb3J0Rm9ybWF0IjoiVGFidWxhciIsImZyb21EYXRlIjoiMDMtMDEtMjAxOSBUMDA6MDA6MDBaIiwidG9EYXRlIjoiMDQtMDEtMjAxOSBUMDA6MDA6MDBaIiwic3RhdGUiOiJSYWphc3RoYW4iLCJjaXR5IjoiSmFpcHVyIiwic3RhdGlvbiI6InNpdGVfMTM5MyIsInBhcmFtZXRlciI6WyJwYXJhbWV0ZXJfMjAyIiwicGFyYW1ldGVyXzIxNiIsInBhcmFtZXRlcl8yNDAiLCJwYXJhbWV0ZXJfMjQxIiwicGFyYW1ldGVyXzIzMiIsInBhcmFtZXRlcl8yMzgiLCJwYXJhbWV0ZXJfMTkzIiwicGFyYW1ldGVyXzIxNSIsInBhcmFtZXRlcl8yMzYiLCJwYXJhbWV0ZXJfMjM1IiwicGFyYW1ldGVyXzIzNyIsInBhcmFtZXRlcl8xOTgiLCJwYXJhbWV0ZXJfMjM0IiwicGFyYW1ldGVyXzIzMyIsInBhcmFtZXRlcl8yMDMiLCJwYXJhbWV0ZXJfMzExIiwicGFyYW1ldGVyXzIyNiIsInBhcmFtZXRlcl8xOTQiLCJwYXJhbWV0ZXJfMjI1IiwicGFyYW1ldGVyXzIyMiIsInBhcmFtZXRlcl8zMTIiXSwicGFyYW1ldGVyTmFtZXMiOlsiQmVuemVuZSIsIkV0aC1CZW56ZW5lIiwiTVAtWHlsZW5lIiwiTyBYeWxlbmUiLCJUb2x1ZW5lIiwiQlAiLCJQTTIuNSIsIlBNMTAiLCJSRiIsIlJIIiwiU1IiLCJUZW1wIiwiV0QiLCJXUyIsIkNPIiwiTkgzIiwiTk8iLCJOTzIiLCJOT3giLCJPem9uZSIsIlNPMiJdfQ=='\n",
      "Awesome response code 200\n",
      "#####################################################2021-05-05 09:07:17\n"
     ]
    },
    {
     "name": "stderr",
     "output_type": "stream",
     "text": [
      "C:\\Users\\Shiv deep\\anaconda3\\lib\\site-packages\\urllib3\\connectionpool.py:981: InsecureRequestWarning: Unverified HTTPS request is being made to host 'app.cpcbccr.com'. Adding certificate verification is strongly advised. See: https://urllib3.readthedocs.io/en/latest/advanced-usage.html#ssl-warnings\n",
      "  warnings.warn(\n"
     ]
    },
    {
     "name": "stdout",
     "output_type": "stream",
     "text": [
      "b'eyJjcml0ZXJpYSI6IjI0IEhvdXJzIiwicmVwb3J0Rm9ybWF0IjoiVGFidWxhciIsImZyb21EYXRlIjoiMDQtMDEtMjAxOSBUMDA6MDA6MDBaIiwidG9EYXRlIjoiMDUtMDEtMjAxOSBUMDA6MDA6MDBaIiwic3RhdGUiOiJSYWphc3RoYW4iLCJjaXR5IjoiSmFpcHVyIiwic3RhdGlvbiI6InNpdGVfMTM5MyIsInBhcmFtZXRlciI6WyJwYXJhbWV0ZXJfMjAyIiwicGFyYW1ldGVyXzIxNiIsInBhcmFtZXRlcl8yNDAiLCJwYXJhbWV0ZXJfMjQxIiwicGFyYW1ldGVyXzIzMiIsInBhcmFtZXRlcl8yMzgiLCJwYXJhbWV0ZXJfMTkzIiwicGFyYW1ldGVyXzIxNSIsInBhcmFtZXRlcl8yMzYiLCJwYXJhbWV0ZXJfMjM1IiwicGFyYW1ldGVyXzIzNyIsInBhcmFtZXRlcl8xOTgiLCJwYXJhbWV0ZXJfMjM0IiwicGFyYW1ldGVyXzIzMyIsInBhcmFtZXRlcl8yMDMiLCJwYXJhbWV0ZXJfMzExIiwicGFyYW1ldGVyXzIyNiIsInBhcmFtZXRlcl8xOTQiLCJwYXJhbWV0ZXJfMjI1IiwicGFyYW1ldGVyXzIyMiIsInBhcmFtZXRlcl8zMTIiXSwicGFyYW1ldGVyTmFtZXMiOlsiQmVuemVuZSIsIkV0aC1CZW56ZW5lIiwiTVAtWHlsZW5lIiwiTyBYeWxlbmUiLCJUb2x1ZW5lIiwiQlAiLCJQTTIuNSIsIlBNMTAiLCJSRiIsIlJIIiwiU1IiLCJUZW1wIiwiV0QiLCJXUyIsIkNPIiwiTkgzIiwiTk8iLCJOTzIiLCJOT3giLCJPem9uZSIsIlNPMiJdfQ=='\n",
      "Awesome response code 200\n",
      "#####################################################2021-05-05 09:07:25\n"
     ]
    },
    {
     "name": "stderr",
     "output_type": "stream",
     "text": [
      "C:\\Users\\Shiv deep\\anaconda3\\lib\\site-packages\\urllib3\\connectionpool.py:981: InsecureRequestWarning: Unverified HTTPS request is being made to host 'app.cpcbccr.com'. Adding certificate verification is strongly advised. See: https://urllib3.readthedocs.io/en/latest/advanced-usage.html#ssl-warnings\n",
      "  warnings.warn(\n"
     ]
    },
    {
     "name": "stdout",
     "output_type": "stream",
     "text": [
      "b'eyJjcml0ZXJpYSI6IjI0IEhvdXJzIiwicmVwb3J0Rm9ybWF0IjoiVGFidWxhciIsImZyb21EYXRlIjoiMDUtMDEtMjAxOSBUMDA6MDA6MDBaIiwidG9EYXRlIjoiMDYtMDEtMjAxOSBUMDA6MDA6MDBaIiwic3RhdGUiOiJSYWphc3RoYW4iLCJjaXR5IjoiSmFpcHVyIiwic3RhdGlvbiI6InNpdGVfMTM5MyIsInBhcmFtZXRlciI6WyJwYXJhbWV0ZXJfMjAyIiwicGFyYW1ldGVyXzIxNiIsInBhcmFtZXRlcl8yNDAiLCJwYXJhbWV0ZXJfMjQxIiwicGFyYW1ldGVyXzIzMiIsInBhcmFtZXRlcl8yMzgiLCJwYXJhbWV0ZXJfMTkzIiwicGFyYW1ldGVyXzIxNSIsInBhcmFtZXRlcl8yMzYiLCJwYXJhbWV0ZXJfMjM1IiwicGFyYW1ldGVyXzIzNyIsInBhcmFtZXRlcl8xOTgiLCJwYXJhbWV0ZXJfMjM0IiwicGFyYW1ldGVyXzIzMyIsInBhcmFtZXRlcl8yMDMiLCJwYXJhbWV0ZXJfMzExIiwicGFyYW1ldGVyXzIyNiIsInBhcmFtZXRlcl8xOTQiLCJwYXJhbWV0ZXJfMjI1IiwicGFyYW1ldGVyXzIyMiIsInBhcmFtZXRlcl8zMTIiXSwicGFyYW1ldGVyTmFtZXMiOlsiQmVuemVuZSIsIkV0aC1CZW56ZW5lIiwiTVAtWHlsZW5lIiwiTyBYeWxlbmUiLCJUb2x1ZW5lIiwiQlAiLCJQTTIuNSIsIlBNMTAiLCJSRiIsIlJIIiwiU1IiLCJUZW1wIiwiV0QiLCJXUyIsIkNPIiwiTkgzIiwiTk8iLCJOTzIiLCJOT3giLCJPem9uZSIsIlNPMiJdfQ=='\n",
      "Awesome response code 200\n",
      "#####################################################2021-05-05 09:07:35\n"
     ]
    },
    {
     "name": "stderr",
     "output_type": "stream",
     "text": [
      "C:\\Users\\Shiv deep\\anaconda3\\lib\\site-packages\\urllib3\\connectionpool.py:981: InsecureRequestWarning: Unverified HTTPS request is being made to host 'app.cpcbccr.com'. Adding certificate verification is strongly advised. See: https://urllib3.readthedocs.io/en/latest/advanced-usage.html#ssl-warnings\n",
      "  warnings.warn(\n"
     ]
    },
    {
     "name": "stdout",
     "output_type": "stream",
     "text": [
      "b'eyJjcml0ZXJpYSI6IjI0IEhvdXJzIiwicmVwb3J0Rm9ybWF0IjoiVGFidWxhciIsImZyb21EYXRlIjoiMDYtMDEtMjAxOSBUMDA6MDA6MDBaIiwidG9EYXRlIjoiMDctMDEtMjAxOSBUMDA6MDA6MDBaIiwic3RhdGUiOiJSYWphc3RoYW4iLCJjaXR5IjoiSmFpcHVyIiwic3RhdGlvbiI6InNpdGVfMTM5MyIsInBhcmFtZXRlciI6WyJwYXJhbWV0ZXJfMjAyIiwicGFyYW1ldGVyXzIxNiIsInBhcmFtZXRlcl8yNDAiLCJwYXJhbWV0ZXJfMjQxIiwicGFyYW1ldGVyXzIzMiIsInBhcmFtZXRlcl8yMzgiLCJwYXJhbWV0ZXJfMTkzIiwicGFyYW1ldGVyXzIxNSIsInBhcmFtZXRlcl8yMzYiLCJwYXJhbWV0ZXJfMjM1IiwicGFyYW1ldGVyXzIzNyIsInBhcmFtZXRlcl8xOTgiLCJwYXJhbWV0ZXJfMjM0IiwicGFyYW1ldGVyXzIzMyIsInBhcmFtZXRlcl8yMDMiLCJwYXJhbWV0ZXJfMzExIiwicGFyYW1ldGVyXzIyNiIsInBhcmFtZXRlcl8xOTQiLCJwYXJhbWV0ZXJfMjI1IiwicGFyYW1ldGVyXzIyMiIsInBhcmFtZXRlcl8zMTIiXSwicGFyYW1ldGVyTmFtZXMiOlsiQmVuemVuZSIsIkV0aC1CZW56ZW5lIiwiTVAtWHlsZW5lIiwiTyBYeWxlbmUiLCJUb2x1ZW5lIiwiQlAiLCJQTTIuNSIsIlBNMTAiLCJSRiIsIlJIIiwiU1IiLCJUZW1wIiwiV0QiLCJXUyIsIkNPIiwiTkgzIiwiTk8iLCJOTzIiLCJOT3giLCJPem9uZSIsIlNPMiJdfQ=='\n",
      "Awesome response code 200\n",
      "#####################################################2021-05-05 09:07:56\n"
     ]
    },
    {
     "name": "stderr",
     "output_type": "stream",
     "text": [
      "C:\\Users\\Shiv deep\\anaconda3\\lib\\site-packages\\urllib3\\connectionpool.py:981: InsecureRequestWarning: Unverified HTTPS request is being made to host 'app.cpcbccr.com'. Adding certificate verification is strongly advised. See: https://urllib3.readthedocs.io/en/latest/advanced-usage.html#ssl-warnings\n",
      "  warnings.warn(\n"
     ]
    },
    {
     "name": "stdout",
     "output_type": "stream",
     "text": [
      "b'eyJjcml0ZXJpYSI6IjI0IEhvdXJzIiwicmVwb3J0Rm9ybWF0IjoiVGFidWxhciIsImZyb21EYXRlIjoiMDctMDEtMjAxOSBUMDA6MDA6MDBaIiwidG9EYXRlIjoiMDgtMDEtMjAxOSBUMDA6MDA6MDBaIiwic3RhdGUiOiJSYWphc3RoYW4iLCJjaXR5IjoiSmFpcHVyIiwic3RhdGlvbiI6InNpdGVfMTM5MyIsInBhcmFtZXRlciI6WyJwYXJhbWV0ZXJfMjAyIiwicGFyYW1ldGVyXzIxNiIsInBhcmFtZXRlcl8yNDAiLCJwYXJhbWV0ZXJfMjQxIiwicGFyYW1ldGVyXzIzMiIsInBhcmFtZXRlcl8yMzgiLCJwYXJhbWV0ZXJfMTkzIiwicGFyYW1ldGVyXzIxNSIsInBhcmFtZXRlcl8yMzYiLCJwYXJhbWV0ZXJfMjM1IiwicGFyYW1ldGVyXzIzNyIsInBhcmFtZXRlcl8xOTgiLCJwYXJhbWV0ZXJfMjM0IiwicGFyYW1ldGVyXzIzMyIsInBhcmFtZXRlcl8yMDMiLCJwYXJhbWV0ZXJfMzExIiwicGFyYW1ldGVyXzIyNiIsInBhcmFtZXRlcl8xOTQiLCJwYXJhbWV0ZXJfMjI1IiwicGFyYW1ldGVyXzIyMiIsInBhcmFtZXRlcl8zMTIiXSwicGFyYW1ldGVyTmFtZXMiOlsiQmVuemVuZSIsIkV0aC1CZW56ZW5lIiwiTVAtWHlsZW5lIiwiTyBYeWxlbmUiLCJUb2x1ZW5lIiwiQlAiLCJQTTIuNSIsIlBNMTAiLCJSRiIsIlJIIiwiU1IiLCJUZW1wIiwiV0QiLCJXUyIsIkNPIiwiTkgzIiwiTk8iLCJOTzIiLCJOT3giLCJPem9uZSIsIlNPMiJdfQ=='\n",
      "Awesome response code 200\n",
      "#####################################################2021-05-05 09:08:04\n"
     ]
    },
    {
     "name": "stderr",
     "output_type": "stream",
     "text": [
      "C:\\Users\\Shiv deep\\anaconda3\\lib\\site-packages\\urllib3\\connectionpool.py:981: InsecureRequestWarning: Unverified HTTPS request is being made to host 'app.cpcbccr.com'. Adding certificate verification is strongly advised. See: https://urllib3.readthedocs.io/en/latest/advanced-usage.html#ssl-warnings\n",
      "  warnings.warn(\n"
     ]
    },
    {
     "name": "stdout",
     "output_type": "stream",
     "text": [
      "b'eyJjcml0ZXJpYSI6IjI0IEhvdXJzIiwicmVwb3J0Rm9ybWF0IjoiVGFidWxhciIsImZyb21EYXRlIjoiMDgtMDEtMjAxOSBUMDA6MDA6MDBaIiwidG9EYXRlIjoiMDktMDEtMjAxOSBUMDA6MDA6MDBaIiwic3RhdGUiOiJSYWphc3RoYW4iLCJjaXR5IjoiSmFpcHVyIiwic3RhdGlvbiI6InNpdGVfMTM5MyIsInBhcmFtZXRlciI6WyJwYXJhbWV0ZXJfMjAyIiwicGFyYW1ldGVyXzIxNiIsInBhcmFtZXRlcl8yNDAiLCJwYXJhbWV0ZXJfMjQxIiwicGFyYW1ldGVyXzIzMiIsInBhcmFtZXRlcl8yMzgiLCJwYXJhbWV0ZXJfMTkzIiwicGFyYW1ldGVyXzIxNSIsInBhcmFtZXRlcl8yMzYiLCJwYXJhbWV0ZXJfMjM1IiwicGFyYW1ldGVyXzIzNyIsInBhcmFtZXRlcl8xOTgiLCJwYXJhbWV0ZXJfMjM0IiwicGFyYW1ldGVyXzIzMyIsInBhcmFtZXRlcl8yMDMiLCJwYXJhbWV0ZXJfMzExIiwicGFyYW1ldGVyXzIyNiIsInBhcmFtZXRlcl8xOTQiLCJwYXJhbWV0ZXJfMjI1IiwicGFyYW1ldGVyXzIyMiIsInBhcmFtZXRlcl8zMTIiXSwicGFyYW1ldGVyTmFtZXMiOlsiQmVuemVuZSIsIkV0aC1CZW56ZW5lIiwiTVAtWHlsZW5lIiwiTyBYeWxlbmUiLCJUb2x1ZW5lIiwiQlAiLCJQTTIuNSIsIlBNMTAiLCJSRiIsIlJIIiwiU1IiLCJUZW1wIiwiV0QiLCJXUyIsIkNPIiwiTkgzIiwiTk8iLCJOTzIiLCJOT3giLCJPem9uZSIsIlNPMiJdfQ=='\n",
      "Awesome response code 200\n",
      "#####################################################2021-05-05 09:08:11\n"
     ]
    },
    {
     "name": "stderr",
     "output_type": "stream",
     "text": [
      "C:\\Users\\Shiv deep\\anaconda3\\lib\\site-packages\\urllib3\\connectionpool.py:981: InsecureRequestWarning: Unverified HTTPS request is being made to host 'app.cpcbccr.com'. Adding certificate verification is strongly advised. See: https://urllib3.readthedocs.io/en/latest/advanced-usage.html#ssl-warnings\n",
      "  warnings.warn(\n"
     ]
    },
    {
     "name": "stdout",
     "output_type": "stream",
     "text": [
      "b'eyJjcml0ZXJpYSI6IjI0IEhvdXJzIiwicmVwb3J0Rm9ybWF0IjoiVGFidWxhciIsImZyb21EYXRlIjoiMDktMDEtMjAxOSBUMDA6MDA6MDBaIiwidG9EYXRlIjoiMTAtMDEtMjAxOSBUMDA6MDA6MDBaIiwic3RhdGUiOiJSYWphc3RoYW4iLCJjaXR5IjoiSmFpcHVyIiwic3RhdGlvbiI6InNpdGVfMTM5MyIsInBhcmFtZXRlciI6WyJwYXJhbWV0ZXJfMjAyIiwicGFyYW1ldGVyXzIxNiIsInBhcmFtZXRlcl8yNDAiLCJwYXJhbWV0ZXJfMjQxIiwicGFyYW1ldGVyXzIzMiIsInBhcmFtZXRlcl8yMzgiLCJwYXJhbWV0ZXJfMTkzIiwicGFyYW1ldGVyXzIxNSIsInBhcmFtZXRlcl8yMzYiLCJwYXJhbWV0ZXJfMjM1IiwicGFyYW1ldGVyXzIzNyIsInBhcmFtZXRlcl8xOTgiLCJwYXJhbWV0ZXJfMjM0IiwicGFyYW1ldGVyXzIzMyIsInBhcmFtZXRlcl8yMDMiLCJwYXJhbWV0ZXJfMzExIiwicGFyYW1ldGVyXzIyNiIsInBhcmFtZXRlcl8xOTQiLCJwYXJhbWV0ZXJfMjI1IiwicGFyYW1ldGVyXzIyMiIsInBhcmFtZXRlcl8zMTIiXSwicGFyYW1ldGVyTmFtZXMiOlsiQmVuemVuZSIsIkV0aC1CZW56ZW5lIiwiTVAtWHlsZW5lIiwiTyBYeWxlbmUiLCJUb2x1ZW5lIiwiQlAiLCJQTTIuNSIsIlBNMTAiLCJSRiIsIlJIIiwiU1IiLCJUZW1wIiwiV0QiLCJXUyIsIkNPIiwiTkgzIiwiTk8iLCJOTzIiLCJOT3giLCJPem9uZSIsIlNPMiJdfQ=='\n",
      "Awesome response code 200\n",
      "#####################################################2021-05-05 09:08:18\n"
     ]
    },
    {
     "name": "stderr",
     "output_type": "stream",
     "text": [
      "C:\\Users\\Shiv deep\\anaconda3\\lib\\site-packages\\urllib3\\connectionpool.py:981: InsecureRequestWarning: Unverified HTTPS request is being made to host 'app.cpcbccr.com'. Adding certificate verification is strongly advised. See: https://urllib3.readthedocs.io/en/latest/advanced-usage.html#ssl-warnings\n",
      "  warnings.warn(\n"
     ]
    },
    {
     "name": "stdout",
     "output_type": "stream",
     "text": [
      "b'eyJjcml0ZXJpYSI6IjI0IEhvdXJzIiwicmVwb3J0Rm9ybWF0IjoiVGFidWxhciIsImZyb21EYXRlIjoiMTAtMDEtMjAxOSBUMDA6MDA6MDBaIiwidG9EYXRlIjoiMTEtMDEtMjAxOSBUMDA6MDA6MDBaIiwic3RhdGUiOiJSYWphc3RoYW4iLCJjaXR5IjoiSmFpcHVyIiwic3RhdGlvbiI6InNpdGVfMTM5MyIsInBhcmFtZXRlciI6WyJwYXJhbWV0ZXJfMjAyIiwicGFyYW1ldGVyXzIxNiIsInBhcmFtZXRlcl8yNDAiLCJwYXJhbWV0ZXJfMjQxIiwicGFyYW1ldGVyXzIzMiIsInBhcmFtZXRlcl8yMzgiLCJwYXJhbWV0ZXJfMTkzIiwicGFyYW1ldGVyXzIxNSIsInBhcmFtZXRlcl8yMzYiLCJwYXJhbWV0ZXJfMjM1IiwicGFyYW1ldGVyXzIzNyIsInBhcmFtZXRlcl8xOTgiLCJwYXJhbWV0ZXJfMjM0IiwicGFyYW1ldGVyXzIzMyIsInBhcmFtZXRlcl8yMDMiLCJwYXJhbWV0ZXJfMzExIiwicGFyYW1ldGVyXzIyNiIsInBhcmFtZXRlcl8xOTQiLCJwYXJhbWV0ZXJfMjI1IiwicGFyYW1ldGVyXzIyMiIsInBhcmFtZXRlcl8zMTIiXSwicGFyYW1ldGVyTmFtZXMiOlsiQmVuemVuZSIsIkV0aC1CZW56ZW5lIiwiTVAtWHlsZW5lIiwiTyBYeWxlbmUiLCJUb2x1ZW5lIiwiQlAiLCJQTTIuNSIsIlBNMTAiLCJSRiIsIlJIIiwiU1IiLCJUZW1wIiwiV0QiLCJXUyIsIkNPIiwiTkgzIiwiTk8iLCJOTzIiLCJOT3giLCJPem9uZSIsIlNPMiJdfQ=='\n",
      "Awesome response code 200\n",
      "#####################################################2021-05-05 09:08:26\n"
     ]
    },
    {
     "name": "stderr",
     "output_type": "stream",
     "text": [
      "C:\\Users\\Shiv deep\\anaconda3\\lib\\site-packages\\urllib3\\connectionpool.py:981: InsecureRequestWarning: Unverified HTTPS request is being made to host 'app.cpcbccr.com'. Adding certificate verification is strongly advised. See: https://urllib3.readthedocs.io/en/latest/advanced-usage.html#ssl-warnings\n",
      "  warnings.warn(\n"
     ]
    },
    {
     "name": "stdout",
     "output_type": "stream",
     "text": [
      "b'eyJjcml0ZXJpYSI6IjI0IEhvdXJzIiwicmVwb3J0Rm9ybWF0IjoiVGFidWxhciIsImZyb21EYXRlIjoiMTEtMDEtMjAxOSBUMDA6MDA6MDBaIiwidG9EYXRlIjoiMTItMDEtMjAxOSBUMDA6MDA6MDBaIiwic3RhdGUiOiJSYWphc3RoYW4iLCJjaXR5IjoiSmFpcHVyIiwic3RhdGlvbiI6InNpdGVfMTM5MyIsInBhcmFtZXRlciI6WyJwYXJhbWV0ZXJfMjAyIiwicGFyYW1ldGVyXzIxNiIsInBhcmFtZXRlcl8yNDAiLCJwYXJhbWV0ZXJfMjQxIiwicGFyYW1ldGVyXzIzMiIsInBhcmFtZXRlcl8yMzgiLCJwYXJhbWV0ZXJfMTkzIiwicGFyYW1ldGVyXzIxNSIsInBhcmFtZXRlcl8yMzYiLCJwYXJhbWV0ZXJfMjM1IiwicGFyYW1ldGVyXzIzNyIsInBhcmFtZXRlcl8xOTgiLCJwYXJhbWV0ZXJfMjM0IiwicGFyYW1ldGVyXzIzMyIsInBhcmFtZXRlcl8yMDMiLCJwYXJhbWV0ZXJfMzExIiwicGFyYW1ldGVyXzIyNiIsInBhcmFtZXRlcl8xOTQiLCJwYXJhbWV0ZXJfMjI1IiwicGFyYW1ldGVyXzIyMiIsInBhcmFtZXRlcl8zMTIiXSwicGFyYW1ldGVyTmFtZXMiOlsiQmVuemVuZSIsIkV0aC1CZW56ZW5lIiwiTVAtWHlsZW5lIiwiTyBYeWxlbmUiLCJUb2x1ZW5lIiwiQlAiLCJQTTIuNSIsIlBNMTAiLCJSRiIsIlJIIiwiU1IiLCJUZW1wIiwiV0QiLCJXUyIsIkNPIiwiTkgzIiwiTk8iLCJOTzIiLCJOT3giLCJPem9uZSIsIlNPMiJdfQ=='\n",
      "Awesome response code 200\n",
      "#####################################################2021-05-05 09:08:35\n"
     ]
    },
    {
     "name": "stderr",
     "output_type": "stream",
     "text": [
      "C:\\Users\\Shiv deep\\anaconda3\\lib\\site-packages\\urllib3\\connectionpool.py:981: InsecureRequestWarning: Unverified HTTPS request is being made to host 'app.cpcbccr.com'. Adding certificate verification is strongly advised. See: https://urllib3.readthedocs.io/en/latest/advanced-usage.html#ssl-warnings\n",
      "  warnings.warn(\n"
     ]
    }
   ],
   "source": [
    "import re\n",
    "from datetime import datetime\n",
    "from datetime import timedelta\n",
    "import base64\n",
    "import requests\n",
    "import dataset\n",
    "import json\n",
    "import hashlib \n",
    "import time\n",
    "\n",
    "db = dataset.connect('sqlite:///../data/db1/data.sqlite3')\n",
    "site_table = db[\"sites\"]\n",
    "table = db[\"request_status_data\"]\n",
    "status_code = 1 # 0 for low priority\n",
    "row_exists = table.find_one(status_code=status_code)\n",
    "\n",
    "while row_exists:\n",
    "\tprint(\"#####################################################\"+ str(datetime.fromtimestamp(time.time()).strftime('%Y-%m-%d %H:%M:%S')))\n",
    "\tdb.begin()\n",
    "\tquery_name =row_exists['query_name'] \n",
    "\tencoded_data = row_exists['encoded_data']\n",
    "\theaders = {'Origin': 'https://app.cpcbccr.com'}\n",
    "\theaders['Accept-Encoding'] =\"gzip, deflate, br\"\n",
    "\theaders['Accept-Language'] =\"en-US,en;q=0.5\"\n",
    "\theaders['User-Agent'] =\"Mozilla/5.0 (Windows NT 10.0; Win64; x64; rv:88.0) Gecko/20100101 Firefox/88.0\"\n",
    "\theaders['Content-Type'] =\"application/x-www-form-urlencoded; charset=UTF-8\"\n",
    "\theaders['Accept'] =\"q=0.8;application/json;q=0.9\"\n",
    "\theaders['Referer'] =\"https://app.cpcbccr.com/ccr/\"\n",
    "\theaders['Connection'] =\"keep-alive\"\n",
    "\theaders['Host'] =\"app.cpcbccr.com\"\n",
    "\tr = requests.post(\"https://app.cpcbccr.com/caaqms/advanced_search\",headers=headers, data=encoded_data, verify=False)\n",
    "\tprint(encoded_data)\n",
    "\tif r.status_code == 200:\n",
    "\t\tprint (\"Awesome response code 200\")\n",
    "\t\tjson_data = json.dumps(r.json())\n",
    "\t\tjson_data_hash = hashlib.md5(json_data.encode('utf-8'))\n",
    "\t\trow_exists['json_data'] = json_data\n",
    "\t\trow_exists['json_data_hash'] = json_data_hash.hexdigest()\n",
    "\t\trow_exists['status_code'] = r.status_code\n",
    "\telse:\n",
    "\t\trow_exists['json_data'] = \"\"\n",
    "\t\trow_exists['status_code'] = r.status_code\n",
    "\ttable.update(row_exists,['id'])\n",
    "\tdb.commit()\n",
    "\ttime.sleep(5)\n",
    "\trow_exists = table.find_one(status_code=status_code)\n",
    "\tif row_exists:\n",
    "\t\tpass\n",
    "\telse:\n",
    "\t\tbreak\n",
    "\n",
    "\t#this is for testing\t\n",
    "\t#break\n",
    "\n",
    "print (\"_______________________________________________________________\")\n",
    "\n",
    "#end while\n"
   ]
  },
  {
   "cell_type": "code",
   "execution_count": null,
   "metadata": {},
   "outputs": [],
   "source": [
    "import re\n",
    "from datetime import datetime\n",
    "from datetime import timedelta\n",
    "import base64\n",
    "import requests\n",
    "import dataset\n",
    "import json\n",
    "import hashlib \n",
    "import time\n",
    "\n",
    "db = dataset.connect('sqlite:///../data/db1/data.sqlite3')\n",
    "site_table = db[\"sites\"]\n",
    "table = db[\"request_status_data\"]\n",
    "status_code = 404 # 0 for low priority\n",
    "row_exists = table.find_one(status_code=status_code)\n",
    "\n",
    "while row_exists:\n",
    "\tprint(\"#####################################################\"+ str(datetime.fromtimestamp(time.time()).strftime('%Y-%m-%d %H:%M:%S')))\n",
    "\tdb.begin()\n",
    "\tquery_name =row_exists['query_name'] \n",
    "\tencoded_data = row_exists['encoded_data']\n",
    "\theaders = {'Origin': 'https://app.cpcbccr.com'}\n",
    "\theaders['Accept-Encoding'] =\"gzip, deflate, br\"\n",
    "\theaders['Accept-Language'] =\"en-US,en;q=0.5\"\n",
    "\theaders['User-Agent'] =\"Mozilla/5.0 (Windows NT 10.0; Win64; x64; rv:88.0) Gecko/20100101 Firefox/88.0\"\n",
    "\theaders['Content-Type'] =\"application/x-www-form-urlencoded; charset=UTF-8\"\n",
    "\theaders['Accept'] =\"q=0.8;application/json;q=0.9\"\n",
    "\theaders['Referer'] =\"https://app.cpcbccr.com/ccr/\"\n",
    "\theaders['Connection'] =\"keep-alive\"\n",
    "\theaders['Host'] =\"app.cpcbccr.com\"\n",
    "\tr = requests.post(\"https://app.cpcbccr.com/caaqms/advanced_search\",headers=headers, data=encoded_data, verify=False)\n",
    "\tprint(encoded_data)\n",
    "\tif r.status_code == 200:\n",
    "\t\tprint (\"Awesome response code 200\")\n",
    "\t\tjson_data = json.dumps(r.json())\n",
    "\t\tjson_data_hash = hashlib.md5(json_data.encode('utf-8'))\n",
    "\t\trow_exists['json_data'] = json_data\n",
    "\t\trow_exists['json_data_hash'] = json_data_hash.hexdigest()\n",
    "\t\trow_exists['status_code'] = r.status_code\n",
    "\telse:\n",
    "\t\trow_exists['json_data'] = \"\"\n",
    "\t\trow_exists['status_code'] = r.status_code\n",
    "\ttable.update(row_exists,['id'])\n",
    "\tdb.commit()\n",
    "\ttime.sleep(1)\n",
    "\trow_exists = table.find_one(status_code=status_code)\n",
    "\tif row_exists:\n",
    "\t\tpass\n",
    "\telse:\n",
    "\t\tbreak\n",
    "\n",
    "\t#this is for testing\t\n",
    "\t#break\n",
    "\n",
    "print (\"_______________________________________________________________\")\n",
    "\n",
    "#end while\n"
   ]
  },
  {
   "cell_type": "code",
   "execution_count": null,
   "metadata": {},
   "outputs": [],
   "source": []
  }
 ],
 "metadata": {
  "kernelspec": {
   "display_name": "Python 3",
   "language": "python",
   "name": "python3"
  },
  "language_info": {
   "codemirror_mode": {
    "name": "ipython",
    "version": 3
   },
   "file_extension": ".py",
   "mimetype": "text/x-python",
   "name": "python",
   "nbconvert_exporter": "python",
   "pygments_lexer": "ipython3",
   "version": "3.8.5"
  }
 },
 "nbformat": 4,
 "nbformat_minor": 4
}
